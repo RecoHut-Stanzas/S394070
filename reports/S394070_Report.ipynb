{
  "nbformat": 4,
  "nbformat_minor": 0,
  "metadata": {
    "colab": {
      "name": "S394070_Report",
      "provenance": [],
      "collapsed_sections": [],
      "include_colab_link": true
    },
    "kernelspec": {
      "display_name": "Python 3",
      "name": "python3"
    }
  },
  "cells": [
    {
      "cell_type": "markdown",
      "metadata": {
        "id": "view-in-github",
        "colab_type": "text"
      },
      "source": [
        "<a href=\"https://colab.research.google.com/github/RecoHut-Stanzas/S394070/blob/main/reports/S394070_Report.ipynb\" target=\"_parent\"><img src=\"https://colab.research.google.com/assets/colab-badge.svg\" alt=\"Open In Colab\"/></a>"
      ]
    },
    {
      "cell_type": "markdown",
      "metadata": {
        "id": "SilLoGOVq8Sz"
      },
      "source": [
        "# Deep Variational Models for Collaborative Filtering-based Recommender Systems\n",
        "\n",
        "## Summary Table\n",
        "| Category | Description |\n",
        "| --- | --- |\n",
        "| Problem | Deep learning provides accurate collaborative filtering models to improve recommender system results. Deep matrix factorization and their related collaborative neural networks are the state-of-art in the field; nevertheless, both models lack the necessary stochasticity to create the robust, continuous, and structured latent spaces that variational autoencoders exhibit. On the other hand, data augmentation through variational autoencoder does not provide accurate results in the collaborative filtering field due to the high sparsity of recommender systems. |\n",
        "| Hypothesis | Rating values can be better predicted when a variational latent space has been learnt, because this space covers a wider, more robust, and more representative latent area. The augmented samples will be more accurate and effective if they are generated in an inner and dense latent space rather than in a very sparse input space. |\n",
        "| Benefits | This method does not depend on the particular model used to generate the latent representation. In this way, this approach can be applied as a plugin to any current and future specific models. |\n",
        "| Solution | This models apply the variational concept to inject stochasticity in the latent space of the deep architecture, introducing the variational technique in the neural collaborative filtering field. |\n",
        "| Dataset | FilmTrust, MovieLens-1m, MyAnimeList |\n",
        "| Preprocessing | Dataset is already processed. Three fields - userid, itemid, rating. |\n",
        "| Metrics | MAE, MSE, Precision, Recall, NDCG |\n",
        "| Models | Neural Collaborative Filtering (NCF), Deep Matrix Factorization (DeepMF), Variational NCF (VNCF), Variational DeepMF (VDeepMF) |\n",
        "| Cluster | Tensorflow 2.7 |\n",
        "| Tags | VariationalAutoencoder, DeepMF, NCF |\n",
        "\n",
        "## Model Architecture\n",
        "<p><center><figure><img src='https://github.com/RecoHut-Stanzas/S394070/blob/main/images/model.png?raw=true'><figcaption><i>Proposed VDeepMF architecture. The NCF architecture will have identical ‘Embedding’ and ‘Variational’ layers to the VDeepMF one; it will just replace the ‘Dot’ layer for a ‘Concatenate’ layer, followed by an MLP.</i></figcaption></figure></center></p>\n",
        "\n",
        "## Process Flow\n",
        "<img src='https://raw.githubusercontent.com/RecoHut-Stanzas/S394070/main/images/flow.svg'>\n",
        "\n",
        "## Tutorials\n",
        "[![Open In Colab](https://colab.research.google.com/assets/colab-badge.svg)](https://colab.research.google.com/github/RecoHut-Stanzas/S394070/)\n",
        "\n",
        "### VDeepMF and its variants on FilmTrust Dataset in Tensorflow\n",
        "\n",
        "[direct link to the notebook →](https://github.com/RecoHut-Stanzas/S394070/blob/main/nbs/Deep_Variational_Models_on_FilmTrust%2C_ML_1m%2C_and_MyAnimeList_Dataset_in_Tensorflow.ipynb)\n",
        "\n",
        "## Links & References\n",
        "\n",
        "1. https://arxiv.org/abs/2107.12677v1\n",
        "2. https://github.com/KNODIS-Research-Group/deep-variational-models-for-collaborative-filtering"
      ]
    },
    {
      "cell_type": "code",
      "metadata": {
        "id": "KiYlCHazzxCG"
      },
      "source": [
        ""
      ],
      "execution_count": null,
      "outputs": []
    }
  ]
}